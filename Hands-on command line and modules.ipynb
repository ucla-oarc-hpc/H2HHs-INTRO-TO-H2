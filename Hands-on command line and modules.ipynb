{
 "cells": [
  {
   "cell_type": "markdown",
   "id": "dc98bab5",
   "metadata": {},
   "source": [
    "# Hands-on"
   ]
  },
  {
   "cell_type": "markdown",
   "id": "6568b3c2",
   "metadata": {},
   "source": [
    "## Navigating the unix command line"
   ]
  },
  {
   "cell_type": "code",
   "execution_count": 1,
   "id": "576c484a",
   "metadata": {
    "scrolled": true
   },
   "outputs": [
    {
     "name": "stdout",
     "output_type": "stream",
     "text": [
      "export_pdf.py                            INTRO_TO_H2C.pdf\n",
      "Hands-on command line and modules.ipynb  INTRO_TO_H2C.slides.html\n",
      "INTRO_TO_H2C.ipynb\n"
     ]
    }
   ],
   "source": [
    "ls"
   ]
  },
  {
   "cell_type": "code",
   "execution_count": 2,
   "id": "3979edc8",
   "metadata": {},
   "outputs": [
    {
     "name": "stdout",
     "output_type": "stream",
     "text": [
      "\u001b[0m\u001b[38;5;27m.\u001b[0m/                                       INTRO_TO_H2C.ipynb\n",
      "\u001b[38;5;27m..\u001b[0m/                                      INTRO_TO_H2C.pdf\n",
      "export_pdf.py                            INTRO_TO_H2C.slides.html\n",
      "Hands-on command line and modules.ipynb  \u001b[38;5;27m.ipynb_checkpoints\u001b[0m/\n"
     ]
    }
   ],
   "source": [
    "ls -a"
   ]
  },
  {
   "cell_type": "code",
   "execution_count": 4,
   "id": "f8d4e4d4",
   "metadata": {},
   "outputs": [
    {
     "name": "stdout",
     "output_type": "stream",
     "text": [
      "total 24M\n",
      "-rw-r--r--. 1 dauria systems 4.0K Oct 11 08:21 export_pdf.py\n",
      "-rw-r--r--. 1 dauria systems  13K Oct 11 11:30 Hands-on command line and modules.ipynb\n",
      "-rw-r--r--. 1 dauria systems 9.0M Oct 11 11:08 INTRO_TO_H2C.ipynb\n",
      "-rw-r--r--. 1 dauria systems 5.3M Oct 11 08:16 INTRO_TO_H2C.pdf\n",
      "-rw-r--r--. 1 dauria systems 9.5M Oct 11 08:19 INTRO_TO_H2C.slides.html\n"
     ]
    }
   ],
   "source": [
    "ls -lh"
   ]
  },
  {
   "cell_type": "code",
   "execution_count": 5,
   "id": "ec48c556",
   "metadata": {},
   "outputs": [
    {
     "name": "stdout",
     "output_type": "stream",
     "text": [
      "total 24264\n",
      "drwxr-xr-x. 3 dauria systems    4096 Oct 11 11:30 \u001b[0m\u001b[38;5;27m.\u001b[0m/\n",
      "-rw-r--r--. 1 dauria systems   12909 Oct 11 11:30 Hands-on command line and modules.ipynb\n",
      "-rw-r--r--. 1 dauria systems 9334674 Oct 11 11:08 INTRO_TO_H2C.ipynb\n",
      "-rw-r--r--. 1 dauria systems    4018 Oct 11 08:21 export_pdf.py\n",
      "-rw-r--r--. 1 dauria systems 9905591 Oct 11 08:19 INTRO_TO_H2C.slides.html\n",
      "-rw-r--r--. 1 dauria systems 5453196 Oct 11 08:16 INTRO_TO_H2C.pdf\n",
      "drwxr-xr-x. 2 dauria systems    4096 Oct 10 21:44 \u001b[38;5;27m.ipynb_checkpoints\u001b[0m/\n",
      "drwxr-xr-x. 4 dauria systems    4096 Oct 10 21:22 \u001b[38;5;27m..\u001b[0m/\n"
     ]
    }
   ],
   "source": [
    "ls -lat"
   ]
  },
  {
   "cell_type": "code",
   "execution_count": 6,
   "id": "f26afa09",
   "metadata": {},
   "outputs": [
    {
     "name": "stdout",
     "output_type": "stream",
     "text": [
      "total 24M\n",
      "drwxr-xr-x. 4 dauria systems 4.0K Oct 10 21:22 \u001b[0m\u001b[38;5;27m..\u001b[0m/\n",
      "drwxr-xr-x. 2 dauria systems 4.0K Oct 10 21:44 \u001b[38;5;27m.ipynb_checkpoints\u001b[0m/\n",
      "-rw-r--r--. 1 dauria systems 5.3M Oct 11 08:16 INTRO_TO_H2C.pdf\n",
      "-rw-r--r--. 1 dauria systems 9.5M Oct 11 08:19 INTRO_TO_H2C.slides.html\n",
      "-rw-r--r--. 1 dauria systems 4.0K Oct 11 08:21 export_pdf.py\n",
      "-rw-r--r--. 1 dauria systems 9.0M Oct 11 11:08 INTRO_TO_H2C.ipynb\n",
      "-rw-r--r--. 1 dauria systems  14K Oct 11 11:32 Hands-on command line and modules.ipynb\n",
      "drwxr-xr-x. 3 dauria systems 4.0K Oct 11 11:32 \u001b[38;5;27m.\u001b[0m/\n"
     ]
    }
   ],
   "source": [
    "ls -latrh"
   ]
  },
  {
   "cell_type": "code",
   "execution_count": null,
   "id": "39f6e493",
   "metadata": {},
   "outputs": [],
   "source": [
    "pwd"
   ]
  },
  {
   "cell_type": "code",
   "execution_count": null,
   "id": "c128d4f5",
   "metadata": {},
   "outputs": [],
   "source": [
    "cd $SCRATCH"
   ]
  },
  {
   "cell_type": "code",
   "execution_count": null,
   "id": "668e184c",
   "metadata": {},
   "outputs": [],
   "source": [
    "pwd"
   ]
  },
  {
   "cell_type": "code",
   "execution_count": null,
   "id": "c4d2d85e",
   "metadata": {},
   "outputs": [],
   "source": [
    "timestamp=`date \"+%F_%H-%M\"`; mkdir $HOME/H2HH_$timestamp; cd $HOME/H2HH_$timestamp"
   ]
  },
  {
   "cell_type": "code",
   "execution_count": null,
   "id": "949fdf01",
   "metadata": {},
   "outputs": [],
   "source": [
    "pwd"
   ]
  },
  {
   "cell_type": "code",
   "execution_count": null,
   "id": "e31ad4a7",
   "metadata": {},
   "outputs": [],
   "source": [
    "rmdir $HOME/H2HH_$timestamp"
   ]
  },
  {
   "cell_type": "code",
   "execution_count": null,
   "id": "7bf47b20",
   "metadata": {},
   "outputs": [],
   "source": [
    "ls $HOME/H2HH_$timestamp"
   ]
  },
  {
   "cell_type": "code",
   "execution_count": null,
   "id": "23bafd8d",
   "metadata": {},
   "outputs": [],
   "source": [
    "cd $HOME; pwd"
   ]
  },
  {
   "cell_type": "markdown",
   "id": "9130fa32",
   "metadata": {},
   "source": [
    "## Global nvironmental variables"
   ]
  },
  {
   "cell_type": "code",
   "execution_count": null,
   "id": "b8caf484",
   "metadata": {},
   "outputs": [],
   "source": [
    "echo $HOME"
   ]
  },
  {
   "cell_type": "code",
   "execution_count": null,
   "id": "1401defa",
   "metadata": {},
   "outputs": [],
   "source": [
    "echo $SCRATCH  # Hoffman2-specific"
   ]
  },
  {
   "cell_type": "code",
   "execution_count": null,
   "id": "bc2c1fd1",
   "metadata": {},
   "outputs": [],
   "source": [
    "echo $PATH"
   ]
  },
  {
   "cell_type": "code",
   "execution_count": null,
   "id": "d7677b5d",
   "metadata": {},
   "outputs": [],
   "source": [
    "echo $LD_LIBRARY_PATH"
   ]
  },
  {
   "cell_type": "code",
   "execution_count": null,
   "id": "fdb2188f",
   "metadata": {},
   "outputs": [],
   "source": [
    "echo $SHELL"
   ]
  },
  {
   "cell_type": "markdown",
   "id": "a5a904ca",
   "metadata": {},
   "source": [
    "## Local nvironmental variables"
   ]
  },
  {
   "cell_type": "code",
   "execution_count": null,
   "id": "b0585cf2",
   "metadata": {},
   "outputs": [],
   "source": [
    "timestamp=`date \"+%F_%H-%M\"`; echo $timestamp"
   ]
  },
  {
   "cell_type": "markdown",
   "id": "e3f2f8ea",
   "metadata": {},
   "source": [
    "## Checking the content of text files"
   ]
  },
  {
   "cell_type": "code",
   "execution_count": null,
   "id": "5fb0e16f",
   "metadata": {},
   "outputs": [],
   "source": [
    "# less $HOME/.bashrc    # This command may not exit on the jupyter notebook, try it instead on a terminal opened on Hoffman2"
   ]
  },
  {
   "cell_type": "code",
   "execution_count": null,
   "id": "e4cacc03",
   "metadata": {},
   "outputs": [],
   "source": [
    "# more $HOME/.bashrc  # This command may not exit on the jupyter notebook, try it instead on a terminal opened on Hoffman2"
   ]
  },
  {
   "cell_type": "code",
   "execution_count": null,
   "id": "bb0cb2e1",
   "metadata": {},
   "outputs": [],
   "source": [
    "cat $HOME/.bashrc"
   ]
  },
  {
   "cell_type": "code",
   "execution_count": null,
   "id": "c8c4b65b",
   "metadata": {},
   "outputs": [],
   "source": [
    "head $HOME/.bashrc"
   ]
  },
  {
   "cell_type": "code",
   "execution_count": null,
   "id": "d9e44e57",
   "metadata": {},
   "outputs": [],
   "source": [
    "head -n 5 $HOME/.bashrc"
   ]
  },
  {
   "cell_type": "code",
   "execution_count": null,
   "id": "c0a897e8",
   "metadata": {},
   "outputs": [],
   "source": [
    "tail $HOME/.bashrc"
   ]
  },
  {
   "cell_type": "code",
   "execution_count": null,
   "id": "63226f30",
   "metadata": {},
   "outputs": [],
   "source": [
    "tail -n 5 $HOME/.bashrc"
   ]
  },
  {
   "cell_type": "code",
   "execution_count": null,
   "id": "b6f9fbb5",
   "metadata": {},
   "outputs": [],
   "source": [
    "# tail -f /u/local/licenses/LOGS/logit.matlab     # This command may not exit on the jupyter notebook, try it instead on a terminal opened on Hoffman2"
   ]
  },
  {
   "cell_type": "markdown",
   "id": "65c218b2",
   "metadata": {},
   "source": [
    "## Editing files"
   ]
  },
  {
   "cell_type": "markdown",
   "id": "0aedba1d",
   "metadata": {},
   "source": [
    "### open a terminal to show"
   ]
  },
  {
   "cell_type": "markdown",
   "id": "8b60935c",
   "metadata": {},
   "source": [
    "## Slide 36: Apps on H2 & environmental modules"
   ]
  },
  {
   "cell_type": "code",
   "execution_count": null,
   "id": "61eb50b9",
   "metadata": {},
   "outputs": [],
   "source": [
    "module av --no-pager"
   ]
  },
  {
   "cell_type": "code",
   "execution_count": null,
   "id": "f6f0b250",
   "metadata": {},
   "outputs": [],
   "source": [
    "module av matlab"
   ]
  },
  {
   "cell_type": "code",
   "execution_count": null,
   "id": "7bdcd3e7",
   "metadata": {},
   "outputs": [],
   "source": [
    "module av python"
   ]
  },
  {
   "cell_type": "code",
   "execution_count": null,
   "id": "7f27a3a9",
   "metadata": {},
   "outputs": [],
   "source": [
    "module av R"
   ]
  },
  {
   "cell_type": "code",
   "execution_count": null,
   "id": "deea7fa0",
   "metadata": {},
   "outputs": [],
   "source": [
    "modules_lookup -a"
   ]
  },
  {
   "cell_type": "code",
   "execution_count": null,
   "id": "c88c588d",
   "metadata": {},
   "outputs": [],
   "source": [
    "ls /u/local/apps"
   ]
  },
  {
   "cell_type": "markdown",
   "id": "fa151bc4",
   "metadata": {},
   "source": [
    "## Slide 38: Loading & unloading applications - R example"
   ]
  },
  {
   "cell_type": "code",
   "execution_count": null,
   "id": "41ba68a0",
   "metadata": {},
   "outputs": [],
   "source": [
    "which R"
   ]
  },
  {
   "cell_type": "code",
   "execution_count": null,
   "id": "e654ccfd",
   "metadata": {},
   "outputs": [],
   "source": [
    "module av R"
   ]
  },
  {
   "cell_type": "code",
   "execution_count": null,
   "id": "89372e1a",
   "metadata": {},
   "outputs": [],
   "source": [
    "modules_lookup -m R"
   ]
  },
  {
   "cell_type": "code",
   "execution_count": null,
   "id": "6a201597",
   "metadata": {},
   "outputs": [],
   "source": [
    "module load gcc/10.2.0; module load R/4.3.0"
   ]
  },
  {
   "cell_type": "code",
   "execution_count": null,
   "id": "b1cdca82",
   "metadata": {},
   "outputs": [],
   "source": [
    "which R"
   ]
  },
  {
   "cell_type": "markdown",
   "id": "51ee627f",
   "metadata": {},
   "source": [
    "On a jupyter notebook/lab open a new notebook and select R"
   ]
  },
  {
   "cell_type": "markdown",
   "id": "36618fc7",
   "metadata": {},
   "source": [
    "## Slides 42: Loading & unloading applications - python example"
   ]
  },
  {
   "cell_type": "code",
   "execution_count": null,
   "id": "2768f438",
   "metadata": {},
   "outputs": [],
   "source": [
    "which python"
   ]
  },
  {
   "cell_type": "code",
   "execution_count": null,
   "id": "b867ac59",
   "metadata": {},
   "outputs": [],
   "source": [
    "python --version"
   ]
  },
  {
   "cell_type": "code",
   "execution_count": null,
   "id": "dcb8ceea",
   "metadata": {},
   "outputs": [],
   "source": [
    "which python3"
   ]
  },
  {
   "cell_type": "code",
   "execution_count": null,
   "id": "e0ba2236",
   "metadata": {},
   "outputs": [],
   "source": [
    "module av python"
   ]
  },
  {
   "cell_type": "code",
   "execution_count": null,
   "id": "6b0bdd2d",
   "metadata": {},
   "outputs": [],
   "source": [
    "module load python/3.7.2"
   ]
  },
  {
   "cell_type": "code",
   "execution_count": null,
   "id": "b8f33547",
   "metadata": {},
   "outputs": [],
   "source": [
    "which python3"
   ]
  },
  {
   "cell_type": "markdown",
   "id": "8ff8f787",
   "metadata": {},
   "source": [
    "## Slide 43: Working with Anaconda on Hoffman2"
   ]
  },
  {
   "cell_type": "code",
   "execution_count": null,
   "id": "c731b266",
   "metadata": {},
   "outputs": [],
   "source": [
    "module load anaconda3"
   ]
  },
  {
   "cell_type": "code",
   "execution_count": null,
   "id": "0d281054",
   "metadata": {},
   "outputs": [],
   "source": [
    "which python"
   ]
  },
  {
   "cell_type": "markdown",
   "id": "65a5c5ff",
   "metadata": {},
   "source": [
    "## Slide 44: loading conda env in jupyter notebooks"
   ]
  },
  {
   "cell_type": "markdown",
   "id": "a1580442",
   "metadata": {},
   "source": [
    "To open a jupyter notebook on an anaconda virtual environment you will need to:\n",
    "\n",
    "1. open a terminal on Hoffman2 and issue:\n",
    "\n",
    "```   \n",
    "   qrsh -l h_data=5G # add -l rh7 to get on nodes on the next version of the OS\n",
    "   module load anaconda3\n",
    "   source $CONDA_DIR/etc/profile.d/conda.sh\n",
    "   conda create -n MYCONDAENV python=3.7\n",
    "   conda activate MYCONDAENV\n",
    "   pip install ipykernel\n",
    "   python -m ipykernel install --user --name=MYCONDAENV\n",
    "```\n",
    "\n",
    "2. open a terminal/gitBash/WSL on your local computer and issue:\n",
    "\n",
    " - for nodes on the current version of the OS:\n",
    "\n",
    "    ```\n",
    "    curl -O https://gitlab.idre.ucla.edu/dauria/jupyter-notebook/-/raw/master/h2jupynb\n",
    "    python ./h2jupynb -u joebruin -v anaconda3 -t 1 -m 5   # substitute joebruin with your Hoffman2 username\n",
    "    ```\n",
    "\n",
    "  - for nodes on the next version of the OS:\n",
    "\n",
    "    ```\n",
    "    curl -O https://gitlab.idre.ucla.edu/dauria/jupyter-notebook/-/raw/master/h2jupynb_rh7\n",
    "    python ./h2jupynb -u joebruin -v anaconda3 -t 1 -m 5   # substitute joebruin with your Hoffman2 username\n",
    "    ```\n",
    "\n",
    "   when the jupyter notebook opens you will see MYCONDAENV in the list of possible kernels."
   ]
  },
  {
   "cell_type": "code",
   "execution_count": null,
   "id": "0945357a",
   "metadata": {},
   "outputs": [],
   "source": []
  }
 ],
 "metadata": {
  "kernelspec": {
   "display_name": "Bash",
   "language": "bash",
   "name": "bash"
  },
  "language_info": {
   "codemirror_mode": "shell",
   "file_extension": ".sh",
   "mimetype": "text/x-sh",
   "name": "bash"
  }
 },
 "nbformat": 4,
 "nbformat_minor": 5
}
